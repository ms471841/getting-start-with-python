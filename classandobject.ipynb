{
 "cells": [
  {
   "cell_type": "code",
   "execution_count": 2,
   "id": "50a63458",
   "metadata": {},
   "outputs": [
    {
     "name": "stdout",
     "output_type": "stream",
     "text": [
      "hello world\n"
     ]
    }
   ],
   "source": [
    "print(\"hello world\")"
   ]
  },
  {
   "cell_type": "code",
   "execution_count": 5,
   "id": "0185f7cd",
   "metadata": {},
   "outputs": [
    {
     "name": "stdout",
     "output_type": "stream",
     "text": [
      "8\n"
     ]
    }
   ],
   "source": [
    "class mybox:\n",
    "    def __init__(self,x,y):\n",
    "        self.x=x\n",
    "        self.y=y\n",
    "        self.z=x+y\n",
    "ob = mybox(3,5)\n",
    "print(ob.z)\n",
    "        "
   ]
  },
  {
   "cell_type": "code",
   "execution_count": 6,
   "id": "0173aa6d",
   "metadata": {},
   "outputs": [
    {
     "name": "stdout",
     "output_type": "stream",
     "text": [
      "5\n"
     ]
    }
   ],
   "source": [
    "class x:\n",
    "    r=5\n",
    "my = x()\n",
    "print(my.r)"
   ]
  },
  {
   "cell_type": "code",
   "execution_count": 26,
   "id": "0981c48d",
   "metadata": {},
   "outputs": [
    {
     "name": "stdout",
     "output_type": "stream",
     "text": [
      "my name is manish and my age is : 6\n"
     ]
    }
   ],
   "source": [
    "class myclass:\n",
    "    def __init__(sel,age,name):\n",
    "        sel.myname=name\n",
    "        sel.myage=age\n",
    "    def printf(se):\n",
    "        print(f\"my name is {se.myname} and my age is : {se.myage}\")\n",
    "oj = myclass(5,\"manish\")\n",
    "oj.age = 34\n",
    "oj.myage = 6\n",
    "oj.printf()\n",
    "del oj.myage\n",
    "del oj\n"
   ]
  },
  {
   "cell_type": "code",
   "execution_count": 35,
   "id": "7ecb8592",
   "metadata": {},
   "outputs": [
    {
     "name": "stdout",
     "output_type": "stream",
     "text": [
      "manish saini\n"
     ]
    }
   ],
   "source": [
    "class person:\n",
    "    def __init__(self,fname,lname):\n",
    "        self.firstname= fname\n",
    "        self.lastname= lname\n",
    "    def printf(self):\n",
    "        print(self.firstname, self.lastname) \n",
    "\n",
    "\n",
    "class student(person):\n",
    "        def __init__(self,fname,lname):\n",
    "            super().__init__(fname,lname)\n",
    "x = student(\"manish\",\"saini\")\n",
    "x.printf()"
   ]
  },
  {
   "cell_type": "code",
   "execution_count": null,
   "id": "8dec1c46",
   "metadata": {},
   "outputs": [],
   "source": []
  }
 ],
 "metadata": {
  "kernelspec": {
   "display_name": "Python 3",
   "language": "python",
   "name": "python3"
  },
  "language_info": {
   "codemirror_mode": {
    "name": "ipython",
    "version": 3
   },
   "file_extension": ".py",
   "mimetype": "text/x-python",
   "name": "python",
   "nbconvert_exporter": "python",
   "pygments_lexer": "ipython3",
   "version": "3.8.8"
  }
 },
 "nbformat": 4,
 "nbformat_minor": 5
}
